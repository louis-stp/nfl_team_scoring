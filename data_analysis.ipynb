{
 "cells": [
  {
   "cell_type": "code",
   "execution_count": 5,
   "metadata": {},
   "outputs": [],
   "source": [
    "import pandas as pd\n",
    "from sklearn.model_selection import train_test_split\n",
    "from sklearn.linear_model import Ridge, LinearRegression, Lasso, SGDRegressor\n",
    "from sklearn.ensemble import RandomForestClassifier\n",
    "from sklearn import preprocessing,decomposition\n",
    "from sklearn.naive_bayes import GaussianNB\n",
    "import numpy as np\n",
    "import matplotlib.pyplot as plt\n"
   ]
  },
  {
   "cell_type": "code",
   "execution_count": 102,
   "metadata": {},
   "outputs": [],
   "source": [
    "data = pd.read_csv('merged_data')\n",
    "data.replace([np.inf, -np.inf,np.nan], 0, inplace=True)\n",
    "X = data.drop(['season','Unnamed: 0','f_points','u_points','favorite','underdog',\n",
    "'spread_win','spread_tie','spread_loss','ou_over','ou_tie','ou_under'],axis=1)\n",
    "pca = decomposition.PCA(n_components=4, svd_solver='full')\n",
    "X = pd.DataFrame(pca.fit_transform(X))\n",
    "y = data['ou_over']\n",
    "X_train, X_valid, y_train, y_valid = train_test_split( X, y, test_size=0.4,shuffle=False)\n",
    "X_valid, X_test, y_valid, y_test = train_test_split( X_valid, y_valid, test_size=0.5,shuffle=False)"
   ]
  },
  {
   "cell_type": "code",
   "execution_count": 129,
   "metadata": {},
   "outputs": [
    {
     "name": "stdout",
     "output_type": "stream",
     "text": [
      "0.6814975583288118\n",
      "0.5325732899022801\n"
     ]
    }
   ],
   "source": [
    "reg = RandomForestClassifier(n_estimators=50,min_samples_leaf=3,max_depth=5,bootstrap=True, oob_score=True).fit(X_train, y_train)\n",
    "print(reg.score(X_train,y_train))\n",
    "print(reg.score(X_valid, y_valid))\n",
    "#y_pred = reg.predict(X_test)\n",
    "\n",
    "#plt.scatter(y_test, y_pred)"
   ]
  },
  {
   "cell_type": "code",
   "execution_count": 153,
   "metadata": {},
   "outputs": [
    {
     "name": "stdout",
     "output_type": "stream",
     "text": [
      "0.7699403147042865\n",
      "0.5439739413680782\n"
     ]
    }
   ],
   "source": [
    "from sklearn import tree\n",
    "reg = tree.DecisionTreeClassifier(min_samples_split=20,min_samples_leaf=4,max_depth=50,max_features=6).fit(X_train, y_train)\n",
    "print(reg.score(X_train,y_train))\n",
    "print(reg.score(X_valid, y_valid))\n",
    "#y_pred = reg.predict(X_test)\n",
    "#plt.scatter(y_test, y_pred)"
   ]
  },
  {
   "cell_type": "code",
   "execution_count": 127,
   "metadata": {},
   "outputs": [
    {
     "name": "stdout",
     "output_type": "stream",
     "text": [
      "0.530113944655453\n",
      "0.5423452768729642\n"
     ]
    }
   ],
   "source": [
    "from sklearn import neighbors\n",
    "\n",
    "clf = neighbors.KNeighborsClassifier(n_neighbors=200)\n",
    "clf.fit(X_train, y_train)\n",
    "print(clf.score(X_train,y_train))\n",
    "print(clf.score(X_valid, y_valid))\n",
    "y_pred = clf.predict(X_test)"
   ]
  }
 ],
 "metadata": {
  "kernelspec": {
   "display_name": "Python 3.10.4 ('nfl')",
   "language": "python",
   "name": "python3"
  },
  "language_info": {
   "codemirror_mode": {
    "name": "ipython",
    "version": 3
   },
   "file_extension": ".py",
   "mimetype": "text/x-python",
   "name": "python",
   "nbconvert_exporter": "python",
   "pygments_lexer": "ipython3",
   "version": "3.10.4"
  },
  "orig_nbformat": 4,
  "vscode": {
   "interpreter": {
    "hash": "096731c57ff0bb0dcded71a89eec67a1b06ff205eb2a1819e5ac5662f6c4b606"
   }
  }
 },
 "nbformat": 4,
 "nbformat_minor": 2
}
