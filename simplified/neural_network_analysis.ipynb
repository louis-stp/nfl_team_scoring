{
 "cells": [
  {
   "cell_type": "code",
   "execution_count": 171,
   "metadata": {},
   "outputs": [
    {
     "name": "stdout",
     "output_type": "stream",
     "text": [
      "__CUDNN VERSION: 8500\n",
      "__Number CUDA Devices: 1\n",
      "__CUDA Device Name: NVIDIA GeForce RTX 3060 Ti\n",
      "__CUDA Device Total Memory [GB]: 8.589279232\n",
      "Running on the GPU\n"
     ]
    }
   ],
   "source": [
    "import pandas as pd\n",
    "import numpy as np\n",
    "import matplotlib.pyplot as plt\n",
    "import torch\n",
    "import torch.nn as nn\n",
    "import torch.nn.functional as F\n",
    "import torch.optim as optim\n",
    "from sklearn.model_selection import train_test_split\n",
    "from sklearn import preprocessing,decomposition\n",
    "from tqdm import tqdm\n",
    "\n",
    "use_cuda = torch.cuda.is_available()\n",
    "if use_cuda:\n",
    "    print('__CUDNN VERSION:', torch.backends.cudnn.version())\n",
    "    print('__Number CUDA Devices:', torch.cuda.device_count())\n",
    "    print('__CUDA Device Name:',torch.cuda.get_device_name(0))\n",
    "    print('__CUDA Device Total Memory [GB]:',torch.cuda.get_device_properties(0).total_memory/1e9)\n",
    "\n",
    "if torch.cuda.is_available():\n",
    "    device = torch.device(\"cuda:0\")  # you can continue going on here, like cuda:1 cuda:2....etc. \n",
    "    print(\"Running on the GPU\")\n",
    "else:\n",
    "    device = torch.device(\"cpu\")\n",
    "    print(\"Running on the CPU\")\n"
   ]
  },
  {
   "cell_type": "code",
   "execution_count": 476,
   "metadata": {},
   "outputs": [],
   "source": [
    "data = pd.read_csv('X_data_20_0_0.csv')\n",
    "data = data.drop(['0','1'],axis=1)\n",
    "data = data.iloc[250:]\n",
    "X = data\n",
    "pca = decomposition.PCA(n_components=8, svd_solver='full')\n",
    "X = pd.DataFrame(pca.fit_transform(X))\n",
    "labels = pd.read_csv('y_data_20_0_0.csv')\n",
    "y = (labels['team1_pts']>labels['team2_pts']).astype(int)\n",
    "y = y.iloc[250:]\n",
    "X_train, X_valid, y_train, y_valid = train_test_split( X, y, test_size=0.4,shuffle=False)\n",
    "#X_valid, X_test, y_valid, y_test = train_test_split( X_valid, y_valid, test_size=0.5,shuffle=False)\n",
    "WIDTH = len(X.columns.values)"
   ]
  },
  {
   "cell_type": "code",
   "execution_count": 477,
   "metadata": {},
   "outputs": [],
   "source": [
    "from numpy import dtype\n",
    "import math\n",
    "from matplotlib import pyplot as plt\n",
    "from sklearn import metrics\n",
    "\n",
    "x_train_np = X_train.to_numpy()\n",
    "y_train_np = y_train.to_numpy()\n",
    "\n",
    "x_train_torch = torch.from_numpy(x_train_np).float()\n",
    "y_train_torch = torch.from_numpy(y_train_np).float()\n",
    "x_train_torch = x_train_torch.to(device)\n",
    "y_train_torch = y_train_torch.to(device)\n",
    "\n",
    "x_valid_np = X_valid.to_numpy()\n",
    "y_valid_np = y_valid.to_numpy()\n",
    "\n",
    "x_valid_torch = torch.from_numpy(x_valid_np).float()\n",
    "y_valid_torch = torch.from_numpy(y_valid_np).float()\n",
    "\n",
    "x_valid_torch = x_valid_torch.to(device)\n",
    "y_valid_torch = y_valid_torch.to(device)\n",
    "\n",
    "def out_of_sample_error():\n",
    "\n",
    "    predicted = []\n",
    "    actual = []\n",
    "\n",
    "    with torch.no_grad():\n",
    "        for idx,data in enumerate(x_valid_torch):\n",
    "            output = model(data.view(-1,WIDTH))\n",
    "\n",
    "            predicted += [output.item()]\n",
    "            actual += [y_valid_torch[idx].item()]\n",
    "            \n",
    "    return metrics.mean_absolute_error(actual, predicted)\n",
    "\n",
    "def in_sample_error():\n",
    "\n",
    "    predicted = []\n",
    "    actual = []\n",
    "\n",
    "    with torch.no_grad():\n",
    "        for idx,data in enumerate(x_train_torch):\n",
    "            output = model(data.view(-1,WIDTH))\n",
    "\n",
    "            predicted += [output.item()]\n",
    "            actual += [y_train_torch[idx].item()]\n",
    "\n",
    "    return metrics.mean_absolute_error(actual, predicted)\n",
    "\n",
    "def plot_out_of_sample_error():\n",
    "    predicted = []\n",
    "    actual = []\n",
    "\n",
    "    with torch.no_grad():\n",
    "        for idx,data in enumerate(x_valid_torch):\n",
    "            output = model(data.view(-1,WIDTH))\n",
    "\n",
    "            predicted += [output.item()]\n",
    "            actual += [y_valid_torch[idx].item()]\n",
    "    plt.scatter(predicted,actual)\n",
    "\n",
    "def plot_in_sample_error():\n",
    "    predicted = []\n",
    "    actual = []\n",
    "\n",
    "    with torch.no_grad():\n",
    "        for idx,data in enumerate(x_train_torch):\n",
    "            output = model(data.view(-1,WIDTH))\n",
    "\n",
    "            predicted += [output.item()]\n",
    "            actual += [y_train_torch[idx].item()]\n",
    "    plt.scatter(predicted,actual)"
   ]
  },
  {
   "cell_type": "code",
   "execution_count": 481,
   "metadata": {},
   "outputs": [
    {
     "name": "stdout",
     "output_type": "stream",
     "text": [
      "99 6334.6591796875 0.369 0.423\n",
      "199 6299.74169921875 0.307 0.429\n",
      "299 6283.8095703125 0.277 0.419\n",
      "399 6288.84326171875 0.264 0.392\n"
     ]
    }
   ],
   "source": [
    "# Use the nn package to define our model as a sequence of layers. nn.Sequential\n",
    "# is a Module which contains other Modules, and applies them in sequence to\n",
    "# produce its output. The Linear Module computes output from input using a\n",
    "# linear function, and holds internal Tensors for its weight and bias.\n",
    "# The Flatten layer flatens the output of the linear layer to a 1D tensor,\n",
    "# to match the shape of `y`.\n",
    "from torch import sigmoid\n",
    "\n",
    "\n",
    "model = torch.nn.Sequential(\n",
    "    torch.nn.Linear(WIDTH, 50),\n",
    "    torch.nn.ReLU(),\n",
    "    torch.nn.Linear(50, 10),\n",
    "    torch.nn.ReLU(),\n",
    "    torch.nn.Linear(10, 1),\n",
    "    torch.nn.Sigmoid(),\n",
    "    torch.nn.Flatten(0, 1)\n",
    ")\n",
    "model.to(device)\n",
    "\n",
    "# The nn package also contains definitions of popular loss functions; in this\n",
    "# case we will use Mean Squared Error (MSE) as our loss function.\n",
    "loss_fn = torch.nn.CrossEntropyLoss(reduction='sum')\n",
    "\n",
    "learning_rate = 1e-3\n",
    "numPasses = 400\n",
    "for t in range(numPasses):\n",
    "\n",
    "    # Forward pass: compute predicted y by passing x to the model. Module objects\n",
    "    # override the __call__ operator so you can call them like functions. When\n",
    "    # doing so you pass a Tensor of input data to the Module and it produces\n",
    "    # a Tensor of output data.\n",
    "    y_pred = model(x_train_torch)\n",
    "\n",
    "    # Compute and print loss. We pass Tensors containing the predicted and true\n",
    "    # values of y, and the loss function returns a Tensor containing the\n",
    "    # loss.\n",
    "    loss = loss_fn(y_pred, y_train_torch)\n",
    "    if t % 100 == 99:\n",
    "        print(t, loss.item(), round(in_sample_error(),3), round(out_of_sample_error(),3))\n",
    "        pass\n",
    "\n",
    "    # Zero the gradients before running the backward pass.\n",
    "    model.zero_grad()\n",
    "\n",
    "    # Backward pass: compute gradient of the loss with respect to all the learnable\n",
    "    # parameters of the model. Internally, the parameters of each Module are stored\n",
    "    # in Tensors with requires_grad=True, so this call will compute gradients for\n",
    "    # all learnable parameters in the model.\n",
    "    loss.backward()\n",
    "\n",
    "    # Update the weights using gradient descent. Each parameter is a Tensor, so\n",
    "    # we can access its gradients like we did before.\n",
    "    with torch.no_grad():\n",
    "        for param in model.parameters():\n",
    "            param -= learning_rate * param.grad"
   ]
  },
  {
   "cell_type": "code",
   "execution_count": 482,
   "metadata": {},
   "outputs": [
    {
     "data": {
      "text/plain": [
       "(array([618.,  47.,  34.,  59.,  29.,  33.,  23.,  34.,  60., 787.]),\n",
       " array([2.4938456e-15, 1.0000000e-01, 2.0000000e-01, 3.0000001e-01,\n",
       "        4.0000001e-01, 5.0000000e-01, 6.0000002e-01, 6.9999999e-01,\n",
       "        8.0000001e-01, 8.9999998e-01, 1.0000000e+00], dtype=float32),\n",
       " <BarContainer object of 10 artists>)"
      ]
     },
     "execution_count": 482,
     "metadata": {},
     "output_type": "execute_result"
    },
    {
     "data": {
      "image/png": "[encoded data removed]",
      "text/plain": [
       "<Figure size 640x480 with 1 Axes>"
      ]
     },
     "metadata": {},
     "output_type": "display_data"
    }
   ],
   "source": [
    "plt.hist(y_pred.cpu().detach().numpy())"
   ]
  },
  {
   "cell_type": "code",
   "execution_count": 483,
   "metadata": {},
   "outputs": [
    {
     "name": "stderr",
     "output_type": "stream",
     "text": [
      "1724it [00:00, 1770.97it/s]\n"
     ]
    },
    {
     "name": "stdout",
     "output_type": "stream",
     "text": [
      "Train Accuracy:  0.742\n"
     ]
    },
    {
     "name": "stderr",
     "output_type": "stream",
     "text": [
      "1150it [00:00, 2417.35it/s]"
     ]
    },
    {
     "name": "stdout",
     "output_type": "stream",
     "text": [
      "Valid Accuracy:  0.56\n"
     ]
    },
    {
     "name": "stderr",
     "output_type": "stream",
     "text": [
      "\n"
     ]
    }
   ],
   "source": [
    "correct = 0\n",
    "total = 0\n",
    "\n",
    "with torch.no_grad():\n",
    "    for idx,data in tqdm(enumerate(x_train_torch)):\n",
    "        output = model(data.view(-1,WIDTH))\n",
    "\n",
    "        if round(output.item()) == y_train_torch[idx].item():\n",
    "            correct = correct + 1\n",
    "        total = total + 1\n",
    "\n",
    "print(\"Train Accuracy: \", round(correct/total, 3))\n",
    "\n",
    "correct = 0\n",
    "total = 0\n",
    "\n",
    "with torch.no_grad():\n",
    "    for idx,data in tqdm(enumerate(x_valid_torch)):\n",
    "        output = model(data.view(-1,WIDTH))\n",
    "\n",
    "        if round(output.item()) == y_valid_torch[idx].item():\n",
    "            correct = correct + 1\n",
    "        total = total + 1\n",
    "\n",
    "print(\"Valid Accuracy: \", round(correct/total, 3))"
   ]
  },
  {
   "cell_type": "code",
   "execution_count": 416,
   "metadata": {},
   "outputs": [
    {
     "data": {
      "text/plain": [
       "0.49478260869565216"
      ]
     },
     "execution_count": 416,
     "metadata": {},
     "output_type": "execute_result"
    }
   ],
   "source": [
    "sum(y_valid.values)/len(y_valid.values)"
   ]
  },
  {
   "cell_type": "code",
   "execution_count": 484,
   "metadata": {},
   "outputs": [
    {
     "name": "stderr",
     "output_type": "stream",
     "text": [
      "1724it [00:01, 1663.69it/s]\n"
     ]
    },
    {
     "name": "stdout",
     "output_type": "stream",
     "text": [
      "Train Accuracy:  0.673\n"
     ]
    },
    {
     "name": "stderr",
     "output_type": "stream",
     "text": [
      "1150it [00:00, 2377.48it/s]"
     ]
    },
    {
     "name": "stdout",
     "output_type": "stream",
     "text": [
      "Valid Accuracy:  0.574\n"
     ]
    },
    {
     "name": "stderr",
     "output_type": "stream",
     "text": [
      "\n"
     ]
    }
   ],
   "source": [
    "conf_thresh = .3\n",
    "\n",
    "with torch.no_grad():\n",
    "    for idx,data in tqdm(enumerate(x_train_torch)):\n",
    "        output = model(data.view(-1,WIDTH))\n",
    "        if abs(output.item()-.5) > conf_thresh:\n",
    "            if round(output.item()) == y_train_torch[idx].item():\n",
    "                correct = correct + 1\n",
    "            total = total + 1\n",
    "\n",
    "print(\"Train Accuracy: \", round(correct/total, 3))\n",
    "\n",
    "correct = 0\n",
    "total = 0\n",
    "\n",
    "with torch.no_grad():\n",
    "    for idx,data in tqdm(enumerate(x_valid_torch)):\n",
    "        output = model(data.view(-1,WIDTH))\n",
    "        if abs(output.item()-.5) > conf_thresh:\n",
    "            if round(output.item()) == y_valid_torch[idx].item():\n",
    "                correct = correct + 1\n",
    "            total = total + 1\n",
    "\n",
    "print(\"Valid Accuracy: \", round(correct/total, 3))"
   ]
  }
 ],
 "metadata": {
  "kernelspec": {
   "display_name": "Python 3.10.4 ('nfl')",
   "language": "python",
   "name": "python3"
  },
  "language_info": {
   "codemirror_mode": {
    "name": "ipython",
    "version": 3
   },
   "file_extension": ".py",
   "mimetype": "text/x-python",
   "name": "python",
   "nbconvert_exporter": "python",
   "pygments_lexer": "ipython3",
   "version": "3.10.4"
  },
  "orig_nbformat": 4,
  "vscode": {
   "interpreter": {
    "hash": "096731c57ff0bb0dcded71a89eec67a1b06ff205eb2a1819e5ac5662f6c4b606"
   }
  }
 },
 "nbformat": 4,
 "nbformat_minor": 2
}
