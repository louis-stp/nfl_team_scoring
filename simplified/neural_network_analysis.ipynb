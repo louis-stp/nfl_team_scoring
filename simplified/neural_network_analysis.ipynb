{
 "cells": [
  {
   "cell_type": "code",
   "execution_count": 171,
   "metadata": {},
   "outputs": [
    {
     "name": "stdout",
     "output_type": "stream",
     "text": [
      "__CUDNN VERSION: 8500\n",
      "__Number CUDA Devices: 1\n",
      "__CUDA Device Name: NVIDIA GeForce RTX 3060 Ti\n",
      "__CUDA Device Total Memory [GB]: 8.589279232\n",
      "Running on the GPU\n"
     ]
    }
   ],
   "source": [
    "import pandas as pd\n",
    "import numpy as np\n",
    "import matplotlib.pyplot as plt\n",
    "import torch\n",
    "import torch.nn as nn\n",
    "import torch.nn.functional as F\n",
    "import torch.optim as optim\n",
    "from sklearn.model_selection import train_test_split\n",
    "from sklearn import preprocessing,decomposition\n",
    "from tqdm import tqdm\n",
    "\n",
    "use_cuda = torch.cuda.is_available()\n",
    "if use_cuda:\n",
    "    print('__CUDNN VERSION:', torch.backends.cudnn.version())\n",
    "    print('__Number CUDA Devices:', torch.cuda.device_count())\n",
    "    print('__CUDA Device Name:',torch.cuda.get_device_name(0))\n",
    "    print('__CUDA Device Total Memory [GB]:',torch.cuda.get_device_properties(0).total_memory/1e9)\n",
    "\n",
    "if torch.cuda.is_available():\n",
    "    device = torch.device(\"cuda:0\")  # you can continue going on here, like cuda:1 cuda:2....etc. \n",
    "    print(\"Running on the GPU\")\n",
    "else:\n",
    "    device = torch.device(\"cpu\")\n",
    "    print(\"Running on the CPU\")\n"
   ]
  },
  {
   "cell_type": "code",
   "execution_count": 291,
   "metadata": {},
   "outputs": [],
   "source": [
    "data = pd.read_csv('X_data_20_0_0.csv')\n",
    "data = data.drop(['0','1'],axis=1)\n",
    "X = data\n",
    "pca = decomposition.PCA(n_components=10, svd_solver='full')\n",
    "X = pd.DataFrame(pca.fit_transform(X))\n",
    "labels = pd.read_csv('y_data_20_0_0.csv')\n",
    "y = (labels['team1_pts']>labels['team2_pts']).astype(int)\n",
    "X_train, X_valid, y_train, y_valid = train_test_split( X, y, test_size=0.4,shuffle=False)\n",
    "#X_valid, X_test, y_valid, y_test = train_test_split( X_valid, y_valid, test_size=0.5,shuffle=False)\n",
    "WIDTH = len(X.columns.values)"
   ]
  },
  {
   "cell_type": "code",
   "execution_count": 292,
   "metadata": {},
   "outputs": [],
   "source": [
    "from numpy import dtype\n",
    "import math\n",
    "from matplotlib import pyplot as plt\n",
    "from sklearn import metrics\n",
    "\n",
    "x_train_np = X_train.to_numpy()\n",
    "y_train_np = y_train.to_numpy()\n",
    "\n",
    "x_train_torch = torch.from_numpy(x_train_np).float()\n",
    "y_train_torch = torch.from_numpy(y_train_np).float()\n",
    "x_train_torch = x_train_torch.to(device)\n",
    "y_train_torch = y_train_torch.to(device)\n",
    "\n",
    "x_valid_np = X_valid.to_numpy()\n",
    "y_valid_np = y_valid.to_numpy()\n",
    "\n",
    "x_valid_torch = torch.from_numpy(x_valid_np).float()\n",
    "y_valid_torch = torch.from_numpy(y_valid_np).float()\n",
    "\n",
    "x_valid_torch = x_valid_torch.to(device)\n",
    "y_valid_torch = y_valid_torch.to(device)\n",
    "\n",
    "def out_of_sample_error():\n",
    "\n",
    "    predicted = []\n",
    "    actual = []\n",
    "\n",
    "    with torch.no_grad():\n",
    "        for idx,data in enumerate(x_valid_torch):\n",
    "            output = model(data.view(-1,WIDTH))\n",
    "\n",
    "            predicted += [output.item()]\n",
    "            actual += [y_valid_torch[idx].item()]\n",
    "            \n",
    "    return metrics.mean_absolute_error(actual, predicted)\n",
    "\n",
    "def in_sample_error():\n",
    "\n",
    "    predicted = []\n",
    "    actual = []\n",
    "\n",
    "    with torch.no_grad():\n",
    "        for idx,data in enumerate(x_train_torch):\n",
    "            output = model(data.view(-1,WIDTH))\n",
    "\n",
    "            predicted += [output.item()]\n",
    "            actual += [y_train_torch[idx].item()]\n",
    "\n",
    "    return metrics.mean_absolute_error(actual, predicted)\n",
    "\n",
    "def plot_out_of_sample_error():\n",
    "    predicted = []\n",
    "    actual = []\n",
    "\n",
    "    with torch.no_grad():\n",
    "        for idx,data in enumerate(x_valid_torch):\n",
    "            output = model(data.view(-1,WIDTH))\n",
    "\n",
    "            predicted += [output.item()]\n",
    "            actual += [y_valid_torch[idx].item()]\n",
    "    plt.scatter(predicted,actual)\n",
    "\n",
    "def plot_in_sample_error():\n",
    "    predicted = []\n",
    "    actual = []\n",
    "\n",
    "    with torch.no_grad():\n",
    "        for idx,data in enumerate(x_train_torch):\n",
    "            output = model(data.view(-1,WIDTH))\n",
    "\n",
    "            predicted += [output.item()]\n",
    "            actual += [y_train_torch[idx].item()]\n",
    "    plt.scatter(predicted,actual)"
   ]
  },
  {
   "cell_type": "code",
   "execution_count": 316,
   "metadata": {},
   "outputs": [
    {
     "name": "stdout",
     "output_type": "stream",
     "text": [
      "99 423.6380920410156 0.45 0.462\n",
      "199 415.4737548828125 0.442 0.454\n",
      "299 410.5541687011719 0.438 0.451\n",
      "399 407.3132629394531 0.434 0.448\n",
      "499 404.87677001953125 0.432 0.447\n",
      "599 402.52191162109375 0.43 0.446\n",
      "699 400.6705017089844 0.427 0.446\n",
      "799 399.0223388671875 0.425 0.445\n",
      "899 397.6649169921875 0.424 0.445\n",
      "999 396.4837951660156 0.422 0.445\n",
      "1099 395.5166015625 0.421 0.444\n",
      "1199 394.800048828125 0.42 0.444\n",
      "1299 393.7889404296875 0.419 0.444\n",
      "1399 393.27069091796875 0.418 0.444\n",
      "1499 392.68603515625 0.417 0.443\n"
     ]
    }
   ],
   "source": [
    "# Use the nn package to define our model as a sequence of layers. nn.Sequential\n",
    "# is a Module which contains other Modules, and applies them in sequence to\n",
    "# produce its output. The Linear Module computes output from input using a\n",
    "# linear function, and holds internal Tensors for its weight and bias.\n",
    "# The Flatten layer flatens the output of the linear layer to a 1D tensor,\n",
    "# to match the shape of `y`.\n",
    "from torch import sigmoid\n",
    "\n",
    "\n",
    "model = torch.nn.Sequential(\n",
    "    torch.nn.Linear(WIDTH, 6),\n",
    "    torch.nn.ReLU(),\n",
    "    torch.nn.Linear(6, 6),\n",
    "    torch.nn.ReLU(),\n",
    "    torch.nn.Linear(6, 1),\n",
    "    torch.nn.Sigmoid(),\n",
    "    torch.nn.Flatten(0, 1)\n",
    ")\n",
    "model.to(device)\n",
    "\n",
    "# The nn package also contains definitions of popular loss functions; in this\n",
    "# case we will use Mean Squared Error (MSE) as our loss function.\n",
    "loss_fn = torch.nn.MSELoss(reduction='sum')\n",
    "\n",
    "learning_rate = 1e-4\n",
    "numPasses = 1500\n",
    "for t in range(numPasses):\n",
    "\n",
    "    # Forward pass: compute predicted y by passing x to the model. Module objects\n",
    "    # override the __call__ operator so you can call them like functions. When\n",
    "    # doing so you pass a Tensor of input data to the Module and it produces\n",
    "    # a Tensor of output data.\n",
    "    y_pred = model(x_train_torch)\n",
    "\n",
    "    # Compute and print loss. We pass Tensors containing the predicted and true\n",
    "    # values of y, and the loss function returns a Tensor containing the\n",
    "    # loss.\n",
    "    loss = loss_fn(y_pred, y_train_torch)\n",
    "    if t % 100 == 99:\n",
    "        print(t, loss.item(), round(in_sample_error(),3), round(out_of_sample_error(),3))\n",
    "        pass\n",
    "\n",
    "    # Zero the gradients before running the backward pass.\n",
    "    model.zero_grad()\n",
    "\n",
    "    # Backward pass: compute gradient of the loss with respect to all the learnable\n",
    "    # parameters of the model. Internally, the parameters of each Module are stored\n",
    "    # in Tensors with requires_grad=True, so this call will compute gradients for\n",
    "    # all learnable parameters in the model.\n",
    "    loss.backward()\n",
    "\n",
    "    # Update the weights using gradient descent. Each parameter is a Tensor, so\n",
    "    # we can access its gradients like we did before.\n",
    "    with torch.no_grad():\n",
    "        for param in model.parameters():\n",
    "            param -= learning_rate * param.grad"
   ]
  },
  {
   "cell_type": "code",
   "execution_count": 317,
   "metadata": {},
   "outputs": [
    {
     "data": {
      "text/plain": [
       "(array([ 21., 127., 240., 227., 355., 278., 232., 202., 142.,  50.]),\n",
       " array([0.02979875, 0.12576354, 0.22172832, 0.3176931 , 0.4136579 ,\n",
       "        0.5096227 , 0.6055875 , 0.7015523 , 0.79751706, 0.89348185,\n",
       "        0.98944664], dtype=float32),\n",
       " <BarContainer object of 10 artists>)"
      ]
     },
     "execution_count": 317,
     "metadata": {},
     "output_type": "execute_result"
    },
    {
     "data": {
      "image/png": "[encoded data removed]",
      "text/plain": [
       "<Figure size 640x480 with 1 Axes>"
      ]
     },
     "metadata": {},
     "output_type": "display_data"
    }
   ],
   "source": [
    "plt.hist(y_pred.cpu().detach().numpy())"
   ]
  },
  {
   "cell_type": "code",
   "execution_count": 318,
   "metadata": {},
   "outputs": [
    {
     "name": "stderr",
     "output_type": "stream",
     "text": [
      "1874it [00:00, 1896.82it/s]\n"
     ]
    },
    {
     "name": "stdout",
     "output_type": "stream",
     "text": [
      "Train Accuracy:  0.693\n"
     ]
    },
    {
     "name": "stderr",
     "output_type": "stream",
     "text": [
      "1250it [00:00, 2250.07it/s]"
     ]
    },
    {
     "name": "stdout",
     "output_type": "stream",
     "text": [
      "Valid Accuracy:  0.668\n"
     ]
    },
    {
     "name": "stderr",
     "output_type": "stream",
     "text": [
      "\n"
     ]
    }
   ],
   "source": [
    "correct = 0\n",
    "total = 0\n",
    "\n",
    "with torch.no_grad():\n",
    "    for idx,data in tqdm(enumerate(x_train_torch)):\n",
    "        output = model(data.view(-1,WIDTH))\n",
    "\n",
    "        if round(output.item()) == y_train_torch[idx].item():\n",
    "            correct = correct + 1\n",
    "        total = total + 1\n",
    "\n",
    "print(\"Train Accuracy: \", round(correct/total, 3))\n",
    "\n",
    "with torch.no_grad():\n",
    "    for idx,data in tqdm(enumerate(x_valid_torch)):\n",
    "        output = model(data.view(-1,WIDTH))\n",
    "\n",
    "        if round(output.item()) == y_valid_torch[idx].item():\n",
    "            correct = correct + 1\n",
    "        total = total + 1\n",
    "\n",
    "print(\"Valid Accuracy: \", round(correct/total, 3))"
   ]
  },
  {
   "cell_type": "code",
   "execution_count": 327,
   "metadata": {},
   "outputs": [
    {
     "name": "stderr",
     "output_type": "stream",
     "text": [
      "1874it [00:00, 1932.71it/s]\n"
     ]
    },
    {
     "name": "stdout",
     "output_type": "stream",
     "text": [
      "Train Accuracy:  0.687\n"
     ]
    },
    {
     "name": "stderr",
     "output_type": "stream",
     "text": [
      "1250it [00:00, 2051.58it/s]"
     ]
    },
    {
     "name": "stdout",
     "output_type": "stream",
     "text": [
      "Valid Accuracy:  0.683\n"
     ]
    },
    {
     "name": "stderr",
     "output_type": "stream",
     "text": [
      "\n"
     ]
    }
   ],
   "source": [
    "conf_thresh = .00\n",
    "\n",
    "with torch.no_grad():\n",
    "    for idx,data in tqdm(enumerate(x_train_torch)):\n",
    "        output = model(data.view(-1,WIDTH))\n",
    "        if abs(output.item()-.5) > conf_thresh:\n",
    "            if round(output.item()) == y_train_torch[idx].item():\n",
    "                correct = correct + 1\n",
    "            total = total + 1\n",
    "\n",
    "print(\"Train Accuracy: \", round(correct/total, 3))\n",
    "\n",
    "with torch.no_grad():\n",
    "    for idx,data in tqdm(enumerate(x_valid_torch)):\n",
    "        output = model(data.view(-1,WIDTH))\n",
    "        if abs(output.item()-.5) > conf_thresh:\n",
    "            if round(output.item()) == y_valid_torch[idx].item():\n",
    "                correct = correct + 1\n",
    "            total = total + 1\n",
    "\n",
    "print(\"Valid Accuracy: \", round(correct/total, 3))"
   ]
  }
 ],
 "metadata": {
  "kernelspec": {
   "display_name": "Python 3.10.4 ('nfl')",
   "language": "python",
   "name": "python3"
  },
  "language_info": {
   "codemirror_mode": {
    "name": "ipython",
    "version": 3
   },
   "file_extension": ".py",
   "mimetype": "text/x-python",
   "name": "python",
   "nbconvert_exporter": "python",
   "pygments_lexer": "ipython3",
   "version": "3.10.4"
  },
  "orig_nbformat": 4,
  "vscode": {
   "interpreter": {
    "hash": "096731c57ff0bb0dcded71a89eec67a1b06ff205eb2a1819e5ac5662f6c4b606"
   }
  }
 },
 "nbformat": 4,
 "nbformat_minor": 2
}
